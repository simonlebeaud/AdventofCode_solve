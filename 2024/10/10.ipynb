{
 "cells": [
  {
   "cell_type": "code",
   "execution_count": 5,
   "id": "91ec39e6",
   "metadata": {},
   "outputs": [],
   "source": [
    "f = open('input.txt','r')\n",
    "topo = []\n",
    "for l in f:\n",
    "    topo.append(l.strip())"
   ]
  },
  {
   "cell_type": "code",
   "execution_count": 13,
   "id": "eed78af2",
   "metadata": {},
   "outputs": [
    {
     "name": "stdout",
     "output_type": "stream",
     "text": [
      "Problem 1:  587\n"
     ]
    }
   ],
   "source": [
    "def get_trail_count(topo, start_x, start_y):\n",
    "    def dfs(x, y, curr_height, visited):\n",
    "        if (x, y) in visited:\n",
    "            return\n",
    "        visited.add((x, y))\n",
    "        \n",
    "        # Count unique '9's\n",
    "        if curr_height == 9:\n",
    "            unique_nines.add((x, y))\n",
    "            return\n",
    "        \n",
    "        # Explore all valid neighbors\n",
    "        for dx, dy in [(-1,0),(1,0),(0,-1),(0,1)]:\n",
    "            nx, ny = x + dx, y + dy\n",
    "            if 0 <= nx < len(topo) and 0 <= ny < len(topo[0]):\n",
    "                next_height = int(topo[nx][ny])\n",
    "                if next_height == curr_height + 1:\n",
    "                    dfs(nx, ny, next_height, visited.copy())\n",
    "\n",
    "    unique_nines = set()\n",
    "    dfs(start_x, start_y, 0, set())\n",
    "    return len(unique_nines)\n",
    "\n",
    "def sum_trailhead_scores(topo):\n",
    "    total = 0\n",
    "    for i in range(len(topo)):\n",
    "        for j in range(len(topo[i])):\n",
    "            if topo[i][j] == '0':\n",
    "                total += get_trail_count(topo, i, j)\n",
    "    return total\n",
    "\n",
    "# Test case\n",
    "test = [\n",
    "    '89010123',\n",
    "    '78121874',\n",
    "    '87430965',\n",
    "    '96549874',\n",
    "    '45678903',\n",
    "    '32019012',\n",
    "    '01329801',\n",
    "    '10456732'\n",
    "]\n",
    "\n",
    "print('Problem 1: ', sum_trailhead_scores(topo))"
   ]
  },
  {
   "cell_type": "code",
   "execution_count": 14,
   "id": "04404f6b",
   "metadata": {},
   "outputs": [
    {
     "name": "stdout",
     "output_type": "stream",
     "text": [
      "Problem 2:  1340\n"
     ]
    }
   ],
   "source": [
    "def get_trail_count(topo, start_x, start_y):\n",
    "    def dfs(x, y, curr_height, visited):\n",
    "        if (x, y) in visited:\n",
    "            return\n",
    "        visited.append((x, y))\n",
    "        \n",
    "        # Count unique '9's\n",
    "        if curr_height == 9:\n",
    "            unique_nines.append((x, y))\n",
    "            return\n",
    "        \n",
    "        # Explore all valid neighbors\n",
    "        for dx, dy in [(-1,0),(1,0),(0,-1),(0,1)]:\n",
    "            nx, ny = x + dx, y + dy\n",
    "            if 0 <= nx < len(topo) and 0 <= ny < len(topo[0]):\n",
    "                next_height = int(topo[nx][ny])\n",
    "                if next_height == curr_height + 1:\n",
    "                    dfs(nx, ny, next_height, visited.copy())\n",
    "\n",
    "    unique_nines = []\n",
    "    dfs(start_x, start_y, 0, [])\n",
    "    return len(unique_nines)\n",
    "\n",
    "def sum_trailhead_scores(topo):\n",
    "    total = 0\n",
    "    for i in range(len(topo)):\n",
    "        for j in range(len(topo[i])):\n",
    "            if topo[i][j] == '0':\n",
    "                total += get_trail_count(topo, i, j)\n",
    "    return total\n",
    "\n",
    "# Test case\n",
    "test = [\n",
    "    '89010123',\n",
    "    '78121874',\n",
    "    '87430965',\n",
    "    '96549874',\n",
    "    '45678903',\n",
    "    '32019012',\n",
    "    '01329801',\n",
    "    '10456732'\n",
    "]\n",
    "\n",
    "print('Problem 2: ', sum_trailhead_scores(topo))"
   ]
  },
  {
   "cell_type": "code",
   "execution_count": null,
   "id": "04adbba8",
   "metadata": {},
   "outputs": [],
   "source": []
  }
 ],
 "metadata": {
  "kernelspec": {
   "display_name": "base",
   "language": "python",
   "name": "python3"
  },
  "language_info": {
   "codemirror_mode": {
    "name": "ipython",
    "version": 3
   },
   "file_extension": ".py",
   "mimetype": "text/x-python",
   "name": "python",
   "nbconvert_exporter": "python",
   "pygments_lexer": "ipython3",
   "version": "3.12.7"
  }
 },
 "nbformat": 4,
 "nbformat_minor": 5
}
