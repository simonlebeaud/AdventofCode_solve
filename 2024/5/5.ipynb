{
 "cells": [
  {
   "cell_type": "code",
   "execution_count": 16,
   "id": "0980f7bb",
   "metadata": {},
   "outputs": [],
   "source": [
    "f1 = open('orders.txt','r')\n",
    "f2 = open('rules.txt','r')\n",
    "rules = {}\n",
    "orders = []\n",
    "for l in f1:\n",
    "    orders.append(l)\n",
    "for l in f2:\n",
    "    r = l.split('|')\n",
    "    if int(r[0]) not in rules.keys():\n",
    "        rules[int(r[0])]=[]\n",
    "        rules[int(r[0])].append(int(r[1]))\n",
    "    else:\n",
    "        rules[int(r[0])].append(int(r[1]))"
   ]
  },
  {
   "cell_type": "code",
   "execution_count": null,
   "id": "78c0b31a",
   "metadata": {},
   "outputs": [],
   "source": [
    "def check_foo_right_orders(rules,order):\n",
    "    result = 0\n",
    "    for order in orders:\n",
    "        right_order=True\n",
    "        o = list(map(int,order.split(',')))\n",
    "        for i,x in enumerate(o):\n",
    "            if i==0: continue\n",
    "            for k in o[:i-1]:\n",
    "                if k in rules[x]:\n",
    "                    right_order=False\n",
    "        if right_order:\n",
    "            result+=o[int(len(o)/2)]\n",
    "    print(result)"
   ]
  },
  {
   "cell_type": "code",
   "execution_count": 21,
   "id": "5143a79c",
   "metadata": {},
   "outputs": [
    {
     "name": "stdout",
     "output_type": "stream",
     "text": [
      "4996\n"
     ]
    }
   ],
   "source": [
    "check_foo_right_orders(rules,orders)"
   ]
  },
  {
   "cell_type": "code",
   "execution_count": 45,
   "id": "42058bbe",
   "metadata": {},
   "outputs": [],
   "source": [
    "def reorder(rules,order):\n",
    "    result = 0\n",
    "    for order in orders:\n",
    "        right_order=True\n",
    "        o = list(map(int,order.split(',')))\n",
    "        for i,x in enumerate(o):\n",
    "            if i==0: continue\n",
    "            for j,k in enumerate(o[:i-1]):\n",
    "                if k in rules[x]:\n",
    "                    m = o.pop(i-j)\n",
    "                    o.insert(i-1,m)\n",
    "                    result+=o[int(len(o)/2)]\n",
    "                break\n",
    "            \n",
    "    print(result)"
   ]
  },
  {
   "cell_type": "code",
   "execution_count": 46,
   "id": "cf4dfe2d",
   "metadata": {},
   "outputs": [
    {
     "name": "stdout",
     "output_type": "stream",
     "text": [
      "40746\n"
     ]
    }
   ],
   "source": [
    "reorder(rules,orders)"
   ]
  },
  {
   "cell_type": "code",
   "execution_count": 52,
   "id": "68f77c93",
   "metadata": {},
   "outputs": [],
   "source": [
    "def parse_input(input_data):\n",
    "    sections = input_data.strip().split(\"\\n\\n\")\n",
    "    \n",
    "    # Parse rules into list of (x, y) tuples\n",
    "    rules = []\n",
    "    for line in sections[0].splitlines():\n",
    "        x, y = map(int, line.split('|'))\n",
    "        rules.append((x, y))\n",
    "    \n",
    "    # Parse updates into lists of integers\n",
    "    updates = []\n",
    "    for line in sections[1].splitlines():\n",
    "        updates.append([int(x) for x in line.split(',')])\n",
    "    \n",
    "    return rules, updates\n",
    "\n",
    "def is_update_valid(update, rules):\n",
    "    # Create position index for quick lookup\n",
    "    pos = {page: idx for idx, page in enumerate(update)}\n",
    "    \n",
    "    # Check all rules that apply to this update\n",
    "    for x, y in rules:\n",
    "        if x in pos and y in pos and pos[x] > pos[y]:\n",
    "            return False\n",
    "    return True\n",
    "\n",
    "def topological_sort(update, rules):\n",
    "    # Build adjacency list and in-degree count\n",
    "    adj = {}\n",
    "    in_degree = {}\n",
    "    pages = set(update)\n",
    "    \n",
    "    # Initialize structures\n",
    "    for page in pages:\n",
    "        adj[page] = []\n",
    "        in_degree[page] = 0\n",
    "    \n",
    "    # Build graph with relevant rules\n",
    "    for x, y in rules:\n",
    "        if x in pages and y in pages:\n",
    "            adj[x].append(y)\n",
    "            in_degree[y] += 1\n",
    "    \n",
    "    # Initialize queue with zero in-degree nodes\n",
    "    queue = [page for page in pages if in_degree[page] == 0]\n",
    "    sorted_pages = []\n",
    "    \n",
    "    # Process nodes\n",
    "    while queue:\n",
    "        current = queue.pop(0)\n",
    "        sorted_pages.append(current)\n",
    "        \n",
    "        for neighbor in adj[current]:\n",
    "            in_degree[neighbor] -= 1\n",
    "            if in_degree[neighbor] == 0:\n",
    "                queue.append(neighbor)\n",
    "    \n",
    "    return sorted_pages\n",
    "\n",
    "def calculate_middle_sum(updates):\n",
    "    total = 0\n",
    "    for update in updates:\n",
    "        mid = len(update) // 2\n",
    "        total += update[mid]\n",
    "    return total\n",
    "\n",
    "def main(file_path):\n",
    "    # Read the input file\n",
    "    with open(file_path, 'r') as file:\n",
    "        input_data = file.read()\n",
    "    \n",
    "    # Existing solution code remains the same\n",
    "    rules, updates = parse_input(input_data)\n",
    "    \n",
    "    # Part 1: Valid updates\n",
    "    valid_updates = [u for u in updates if is_update_valid(u, rules)]\n",
    "    part1 = calculate_middle_sum(valid_updates)\n",
    "    \n",
    "    # Part 2: Fix invalid updates\n",
    "    invalid_updates = [u for u in updates if not is_update_valid(u, rules)]\n",
    "    fixed_updates = [topological_sort(u, rules) for u in invalid_updates]\n",
    "    part2 = calculate_middle_sum(fixed_updates)\n",
    "    \n",
    "    return part1, part2\n"
   ]
  },
  {
   "cell_type": "code",
   "execution_count": 53,
   "id": "41d3e768",
   "metadata": {},
   "outputs": [
    {
     "data": {
      "text/plain": [
       "(4996, 6311)"
      ]
     },
     "execution_count": 53,
     "metadata": {},
     "output_type": "execute_result"
    }
   ],
   "source": [
    "main('input.txt')"
   ]
  },
  {
   "cell_type": "code",
   "execution_count": null,
   "id": "00606811",
   "metadata": {},
   "outputs": [],
   "source": []
  }
 ],
 "metadata": {
  "kernelspec": {
   "display_name": "data-science",
   "language": "python",
   "name": "python3"
  },
  "language_info": {
   "codemirror_mode": {
    "name": "ipython",
    "version": 3
   },
   "file_extension": ".py",
   "mimetype": "text/x-python",
   "name": "python",
   "nbconvert_exporter": "python",
   "pygments_lexer": "ipython3",
   "version": "3.12.9"
  }
 },
 "nbformat": 4,
 "nbformat_minor": 5
}
