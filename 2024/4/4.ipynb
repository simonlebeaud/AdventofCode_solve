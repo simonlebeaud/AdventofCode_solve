{
 "cells": [
  {
   "cell_type": "code",
   "execution_count": 47,
   "id": "af61928d",
   "metadata": {},
   "outputs": [],
   "source": [
    "f = open('input.txt','r')\n",
    "memory = []\n",
    "for l in f:\n",
    "    memory.append(l)"
   ]
  },
  {
   "cell_type": "code",
   "execution_count": 48,
   "id": "d726e6a3",
   "metadata": {},
   "outputs": [],
   "source": [
    "def count_xmas_occurrences(grid):\n",
    "    target = \"XMAS\"\n",
    "    rows = len(grid)\n",
    "    cols = len(grid[0]) if rows > 0 else 0\n",
    "    directions = [\n",
    "        (1, 0),   # Horizontal\n",
    "        (0, 1),   # Vertical\n",
    "        (1, 1),   # Diagonal down-right\n",
    "        (1, -1),  # Diagonal down-left\n",
    "        (-1, 0),  # Horizontal reversed\n",
    "        (0, -1),  # Vertical reversed\n",
    "        (-1, -1), # Diagonal up-left\n",
    "        (-1, 1)   # Diagonal up-right\n",
    "    ]\n",
    "    \n",
    "    count = 0\n",
    "    \n",
    "    for i in range(rows):\n",
    "        for j in range(cols):\n",
    "            if grid[i][j] != target[0]:\n",
    "                continue\n",
    "                \n",
    "            for dx, dy in directions:\n",
    "                x, y = i, j\n",
    "                matched = True\n",
    "                \n",
    "                for k in range(1, 4):\n",
    "                    x += dx\n",
    "                    y += dy\n",
    "                    if x < 0 or x >= rows or y < 0 or y >= cols or grid[x][y] != target[k]:\n",
    "                        matched = False\n",
    "                        break\n",
    "                \n",
    "                if matched:\n",
    "                    count += 1\n",
    "                    \n",
    "    return count"
   ]
  },
  {
   "cell_type": "code",
   "execution_count": 49,
   "id": "19aebcd2",
   "metadata": {},
   "outputs": [
    {
     "data": {
      "text/plain": [
       "2554"
      ]
     },
     "execution_count": 49,
     "metadata": {},
     "output_type": "execute_result"
    }
   ],
   "source": [
    "count_xmas_occurrences(memory)"
   ]
  },
  {
   "cell_type": "code",
   "execution_count": 56,
   "id": "ee68b92a",
   "metadata": {},
   "outputs": [],
   "source": [
    "def count_xmas_x_patterns(grid):\n",
    "    rows = len(grid)\n",
    "    cols = len(grid[0]) if rows > 0 else 0\n",
    "    count = 0\n",
    "    \n",
    "    # Define the four diagonal directions for X patterns\n",
    "    directions = [\n",
    "        (1, 1),   # Diagonal down-right\n",
    "        (1, -1),  # Diagonal down-left\n",
    "        (-1, -1), # Diagonal up-left\n",
    "        (-1, 1)   # Diagonal up-right\n",
    "    ]\n",
    "    \n",
    "    # Check all possible center positions\n",
    "    for i in range(1, rows - 1):\n",
    "        for j in range(1, cols - 1):\n",
    "            if grid[i][j] != 'A':\n",
    "                continue\n",
    "                \n",
    "            # Check both pairs of crossing diagonals that form an X\n",
    "            # Pair 1: (1,1) and (1,-1)\n",
    "            x1, y1 = i - 1, j - 1\n",
    "            x2, y2 = i + 1, j + 1\n",
    "            x3, y3 = i - 1, j + 1\n",
    "            x4, y4 = i + 1, j - 1\n",
    "            \n",
    "            char1 = grid[x1][y1]\n",
    "            char2 = grid[x2][y2]\n",
    "            valid1 = (char1 == 'M' and char2 == 'S') or (char1 == 'S' and char2 == 'M')\n",
    "\n",
    "            char3 = grid[x3][y3]\n",
    "            char4 = grid[x4][y4]\n",
    "            valid2 = (char3 == 'M' and char4 == 'S') or (char3 == 'S' and char4 == 'M')\n",
    "\n",
    "                \n",
    "            if valid1 and valid2:\n",
    "                count += 1\n",
    "                \n",
    "            # Pair 2: (-1,-1) and (-1,1)\n",
    "            # This would be the same X rotated 90 degrees, but according to the pattern\n",
    "            # we only want to count each X once, so we don't need to check this pair\n",
    "            # as it would be the same physical X pattern as Pair 1\n",
    "\n",
    "    return count\n",
    "    "
   ]
  },
  {
   "cell_type": "code",
   "execution_count": 57,
   "id": "7ed6967e",
   "metadata": {},
   "outputs": [
    {
     "data": {
      "text/plain": [
       "1916"
      ]
     },
     "execution_count": 57,
     "metadata": {},
     "output_type": "execute_result"
    }
   ],
   "source": [
    "count_xmas_x_patterns(memory)"
   ]
  },
  {
   "cell_type": "code",
   "execution_count": null,
   "id": "d0269318",
   "metadata": {},
   "outputs": [],
   "source": []
  }
 ],
 "metadata": {
  "kernelspec": {
   "display_name": "data-science",
   "language": "python",
   "name": "python3"
  },
  "language_info": {
   "codemirror_mode": {
    "name": "ipython",
    "version": 3
   },
   "file_extension": ".py",
   "mimetype": "text/x-python",
   "name": "python",
   "nbconvert_exporter": "python",
   "pygments_lexer": "ipython3",
   "version": "3.12.9"
  }
 },
 "nbformat": 4,
 "nbformat_minor": 5
}
