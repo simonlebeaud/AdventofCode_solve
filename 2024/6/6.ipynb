{
 "cells": [
  {
   "cell_type": "code",
   "execution_count": null,
   "id": "31bb6d03",
   "metadata": {},
   "outputs": [],
   "source": [
    "f = open('input.txt','r')\n",
    "maze = []\n",
    "for l in f:\n",
    "    maze.append(l[:-1])          "
   ]
  },
  {
   "cell_type": "code",
   "execution_count": 68,
   "id": "17fe1a6b",
   "metadata": {},
   "outputs": [],
   "source": [
    "def count_valid_obstructions(maze):\n",
    "    rows, cols = len(maze), len(maze[0])\n",
    "    \n",
    "    # Find guard's starting position and direction\n",
    "    x, y, d = -1, -1, (0, 0)\n",
    "    for i in range(rows):\n",
    "        if '^' in maze[i]:\n",
    "            x, y = i, maze[i].index('^')\n",
    "            d = (-1, 0)\n",
    "        elif '>' in maze[i]:\n",
    "            x, y = i, maze[i].index('>')\n",
    "            d = (0, 1)\n",
    "        elif 'v' in maze[i]:\n",
    "            x, y = i, maze[i].index('v')\n",
    "            d = (1, 0)\n",
    "        elif '<' in maze[i]:\n",
    "            x, y = i, maze[i].index('<')\n",
    "            d = (0, -1)\n",
    "    \n",
    "    # Convert maze to mutable grid\n",
    "    grid = [list(row) for row in maze]\n",
    "    \n",
    "    valid_positions = 0\n",
    "    \n",
    "    # Iterate through all possible obstruction positions\n",
    "    for obst_x in range(rows):\n",
    "        for obst_y in range(cols):\n",
    "            if (obst_x, obst_y) == (x, y) or grid[obst_x][obst_y] != '.':\n",
    "                continue  # Skip guard's position and non-empty cells\n",
    "            \n",
    "            # Temporarily place obstruction\n",
    "            grid[obst_x][obst_y] = '#'\n",
    "            \n",
    "            # Simulate guard's path\n",
    "            cx, cy, cd = x, y, d\n",
    "            visited_states = set()\n",
    "            has_loop = False\n",
    "            \n",
    "            while True:\n",
    "                # Check for cycle\n",
    "                state = (cx, cy, cd[0], cd[1])\n",
    "                if state in visited_states:\n",
    "                    has_loop = True\n",
    "                    break\n",
    "                visited_states.add(state)\n",
    "                \n",
    "                # Calculate next position\n",
    "                next_x, next_y = cx + cd[0], cy + cd[1]\n",
    "                \n",
    "                # Exit if guard leaves grid\n",
    "                if not (0 <= next_x < rows and 0 <= next_y < cols):\n",
    "                    break\n",
    "                \n",
    "                # Handle obstacles\n",
    "                if grid[next_x][next_y] == '#':\n",
    "                    cd = (cd[1], -cd[0])  # Turn right\n",
    "                else:\n",
    "                    cx, cy = next_x, next_y\n",
    "            \n",
    "            # Restore original cell\n",
    "            grid[obst_x][obst_y] = '.'\n",
    "            \n",
    "            if has_loop:\n",
    "                valid_positions += 1\n",
    "    \n",
    "    return valid_positions"
   ]
  },
  {
   "cell_type": "code",
   "execution_count": 69,
   "id": "0a559300",
   "metadata": {},
   "outputs": [
    {
     "data": {
      "text/plain": [
       "1909"
      ]
     },
     "execution_count": 69,
     "metadata": {},
     "output_type": "execute_result"
    }
   ],
   "source": [
    "count_valid_obstructions(maze)"
   ]
  },
  {
   "cell_type": "code",
   "execution_count": null,
   "id": "62055648",
   "metadata": {},
   "outputs": [],
   "source": []
  }
 ],
 "metadata": {
  "kernelspec": {
   "display_name": "data-science",
   "language": "python",
   "name": "python3"
  },
  "language_info": {
   "codemirror_mode": {
    "name": "ipython",
    "version": 3
   },
   "file_extension": ".py",
   "mimetype": "text/x-python",
   "name": "python",
   "nbconvert_exporter": "python",
   "pygments_lexer": "ipython3",
   "version": "3.12.9"
  }
 },
 "nbformat": 4,
 "nbformat_minor": 5
}
