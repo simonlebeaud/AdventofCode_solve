{
 "cells": [
  {
   "cell_type": "code",
   "execution_count": 4,
   "id": "103642de",
   "metadata": {},
   "outputs": [
    {
     "name": "stdout",
     "output_type": "stream",
     "text": [
      "6310675819476\n"
     ]
    }
   ],
   "source": [
    "from collections import deque\n",
    "\n",
    "with open('input.txt') as f:\n",
    "    rawinput = f.read().strip()\n",
    "\n",
    "lengths = [int(num) for num in rawinput]\n",
    "\n",
    "filled_grid = deque()\n",
    "moved_grid = deque()\n",
    "gaps = deque()\n",
    "\n",
    "cur_pos = 0\n",
    "for i,num in enumerate(lengths):\n",
    "    if i%2 == 0:\n",
    "        filled_grid.append([i//2,cur_pos,num])\n",
    "    else:\n",
    "        if num > 0:\n",
    "            gaps.append([cur_pos,num])\n",
    "    cur_pos += num\n",
    "\n",
    "while True:\n",
    "    gap_pos,gap_len = gaps.popleft()\n",
    "    file_id,file_pos,file_len = filled_grid.pop()\n",
    "    if gap_pos > file_pos:\n",
    "        filled_grid.append([file_id,file_pos,file_len])\n",
    "        break\n",
    "    if gap_len > file_len:\n",
    "        moved_grid.append([file_id,gap_pos,file_len])\n",
    "        gaps.appendleft([gap_pos+file_len,gap_len-file_len])\n",
    "    elif gap_len == file_len:\n",
    "        moved_grid.append([file_id,gap_pos,file_len])\n",
    "    else:\n",
    "        moved_grid.append([file_id,gap_pos,gap_len])\n",
    "        filled_grid.append([file_id,file_pos,file_len-gap_len])\n",
    "    \n",
    "final_grid = filled_grid + moved_grid\n",
    "answer = sum(num*(start*length+(length*(length-1))//2) for num,start,length in final_grid) # (start) + (start+1) + ... + (start+length-1)\n",
    "print(answer)"
   ]
  },
  {
   "cell_type": "code",
   "execution_count": 11,
   "id": "8310fc0f",
   "metadata": {},
   "outputs": [
    {
     "name": "stdout",
     "output_type": "stream",
     "text": [
      "6310675819476\n"
     ]
    }
   ],
   "source": [
    "with open('input.txt') as f:\n",
    "    rawinput = f.read().strip()\n",
    "\n",
    "lengths = [int(num) for num in rawinput]\n",
    "\n",
    "grid = [i//2 if i%2==0 else -1 for i,num in enumerate(lengths) for _ in range(num)]\n",
    "while -1 in grid:\n",
    "    if grid[-1] == (-1):\n",
    "        grid.pop()\n",
    "    else:\n",
    "        index = grid.index(-1)\n",
    "        grid[index] = grid.pop()\n",
    "\n",
    "answer = sum(i*num for i,num in enumerate(grid))\n",
    "print(answer)"
   ]
  },
  {
   "cell_type": "code",
   "execution_count": 9,
   "id": "977596c0",
   "metadata": {},
   "outputs": [
    {
     "name": "stdout",
     "output_type": "stream",
     "text": [
      "6335972980679\n"
     ]
    }
   ],
   "source": [
    "from collections import defaultdict\n",
    "import heapq\n",
    "\n",
    "with open('input.txt') as f:\n",
    "    rawinput = f.read().strip()\n",
    "\n",
    "lengths = [int(num) for num in rawinput]\n",
    "\n",
    "filled_grid = {} # ID: start,length\n",
    "gaps = defaultdict(lambda: []) # length: start\n",
    "\n",
    "cur_pos = 0\n",
    "for i,num in enumerate(lengths):\n",
    "    if i%2 == 0:\n",
    "        filled_grid[i//2] = [cur_pos,num]\n",
    "    else:\n",
    "        if num > 0:\n",
    "            heapq.heappush(gaps[num],cur_pos)\n",
    "    cur_pos += num\n",
    "\n",
    "for i in sorted(filled_grid.keys(),reverse=True):\n",
    "    file_start_pos,file_len = filled_grid[i]\n",
    "    possible_gaps = sorted([[gaps[gap_len][0],gap_len] for gap_len in gaps if gap_len>=file_len])\n",
    "    if possible_gaps:\n",
    "        gap_start_pos,gap_len = possible_gaps[0]\n",
    "        if file_start_pos > gap_start_pos:\n",
    "            filled_grid[i] = [gap_start_pos,file_len]\n",
    "            remaining_gap_len = gap_len-file_len\n",
    "            heapq.heappop(gaps[gap_len])\n",
    "            if not gaps[gap_len]:\n",
    "                del gaps[gap_len]\n",
    "            if remaining_gap_len:\n",
    "                heapq.heappush(gaps[remaining_gap_len],gap_start_pos+file_len)\n",
    "                \n",
    "answer = sum(num*(start*length+(length*(length-1))//2) for num,(start,length) in filled_grid.items()) # (start) + (start+1) + ... + (start+length-1)\n",
    "print(answer)"
   ]
  },
  {
   "cell_type": "code",
   "execution_count": null,
   "id": "d4011e9a",
   "metadata": {},
   "outputs": [],
   "source": []
  }
 ],
 "metadata": {
  "kernelspec": {
   "display_name": "base",
   "language": "python",
   "name": "python3"
  },
  "language_info": {
   "codemirror_mode": {
    "name": "ipython",
    "version": 3
   },
   "file_extension": ".py",
   "mimetype": "text/x-python",
   "name": "python",
   "nbconvert_exporter": "python",
   "pygments_lexer": "ipython3",
   "version": "3.12.7"
  }
 },
 "nbformat": 4,
 "nbformat_minor": 5
}
