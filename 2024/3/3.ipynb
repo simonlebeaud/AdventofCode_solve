{
 "cells": [
  {
   "cell_type": "code",
   "execution_count": 16,
   "id": "6c5f4f16",
   "metadata": {},
   "outputs": [],
   "source": [
    "f = open('inputs.txt','r')\n",
    "sequence = ''\n",
    "for l in f:\n",
    "    sequence+=l"
   ]
  },
  {
   "cell_type": "code",
   "execution_count": 19,
   "id": "c151ab13",
   "metadata": {},
   "outputs": [
    {
     "name": "stdout",
     "output_type": "stream",
     "text": [
      "79845780\n"
     ]
    }
   ],
   "source": [
    "def extract_mul_results(memory):\n",
    "    total = 0\n",
    "    i = 0\n",
    "    enabled = True\n",
    "    while i < len(memory) - 5:  # Need at least \"mul(1,1)\"\n",
    "\n",
    "        if memory[i:i+3] == 'do(':\n",
    "            enabled =True\n",
    "            i += 4  # Skip past 'do()'\n",
    "        elif memory[i:i+6] == 'don\\'t(':\n",
    "            enabled = False\n",
    "            i += 7  # Skip past 'don\\'t()'\n",
    "        # Check for 'mul(' pattern\n",
    "        if memory[i:i+4] == 'mul(':\n",
    "            i += 4  # Skip past 'mul('\n",
    "            x = ''\n",
    "            y = ''\n",
    "            \n",
    "            # Extract first number\n",
    "            while i < len(memory) and memory[i].isdigit():\n",
    "                x += memory[i]\n",
    "                i += 1\n",
    "                \n",
    "            # Check for comma\n",
    "            if i >= len(memory) or memory[i] != ',':\n",
    "                i += 1\n",
    "                continue\n",
    "                \n",
    "            i += 1  # Skip comma\n",
    "            \n",
    "            # Extract second number\n",
    "            while i < len(memory) and memory[i].isdigit():\n",
    "                y += memory[i]\n",
    "                i += 1\n",
    "                \n",
    "            # Check for closing parenthesis\n",
    "            if i >= len(memory) or memory[i] != ')':\n",
    "                i += 1\n",
    "                continue\n",
    "                \n",
    "            # Only count if both numbers were found\n",
    "            if x and y and enabled:\n",
    "                total += int(x) * int(y)\n",
    "            i += 1  # Move past ')'\n",
    "        else:\n",
    "            i += 1  # Continue searching\n",
    "    return total\n",
    "\n",
    "# Test with the example input\n",
    "corrupted_memory = \"xmul(2,4)%&mul[3,7]!@^do_not_mul(5,5)+mul(32,64]then(mul(11,8)mul(8,5))\"\n",
    "print(extract_mul_results(sequence))  # Output: 161"
   ]
  },
  {
   "cell_type": "code",
   "execution_count": null,
   "id": "c8319a53",
   "metadata": {},
   "outputs": [],
   "source": []
  }
 ],
 "metadata": {
  "kernelspec": {
   "display_name": "data-science",
   "language": "python",
   "name": "python3"
  },
  "language_info": {
   "codemirror_mode": {
    "name": "ipython",
    "version": 3
   },
   "file_extension": ".py",
   "mimetype": "text/x-python",
   "name": "python",
   "nbconvert_exporter": "python",
   "pygments_lexer": "ipython3",
   "version": "3.12.9"
  }
 },
 "nbformat": 4,
 "nbformat_minor": 5
}
