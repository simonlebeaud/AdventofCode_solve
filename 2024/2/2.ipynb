{
 "cells": [
  {
   "cell_type": "code",
   "execution_count": 24,
   "id": "aa46c84e",
   "metadata": {},
   "outputs": [
    {
     "name": "stdout",
     "output_type": "stream",
     "text": [
      "Part 1: 306\n",
      "Part 2: 366\n"
     ]
    }
   ],
   "source": [
    "def is_safe(report):\n",
    "    increasing = all(report[i] < report[i + 1] and 1 <= report[i + 1] - report[i] <= 3 for i in range(len(report) - 1))\n",
    "    decreasing = all(report[i] > report[i + 1] and 1 <= report[i] - report[i + 1] <= 3 for i in range(len(report) - 1))\n",
    "    return increasing or decreasing\n",
    "\n",
    "def is_safe_with_dampener(report):\n",
    "    if is_safe(report):\n",
    "        return True\n",
    "    for i in range(len(report)):\n",
    "        modified = report[:i] + report[i+1:]\n",
    "        if is_safe(modified):\n",
    "            return True\n",
    "    return False\n",
    "\n",
    "# Read input and process\n",
    "f= open('inputs.txt', 'r')\n",
    "reports = [list(map(int, line.strip().split())) for line in f]\n",
    "\n",
    "# Part 1: Count safe reports without dampener\n",
    "safe_count = sum(is_safe(report) for report in reports)\n",
    "print(f\"Part 1: {safe_count}\")\n",
    "\n",
    "# Part 2: Count safe reports with dampener\n",
    "safe_dampened = sum(is_safe_with_dampener(report) for report in reports)\n",
    "print(f\"Part 2: {safe_dampened}\")"
   ]
  },
  {
   "cell_type": "code",
   "execution_count": null,
   "id": "f8cd2a29",
   "metadata": {},
   "outputs": [],
   "source": []
  }
 ],
 "metadata": {
  "kernelspec": {
   "display_name": "data-science",
   "language": "python",
   "name": "python3"
  },
  "language_info": {
   "codemirror_mode": {
    "name": "ipython",
    "version": 3
   },
   "file_extension": ".py",
   "mimetype": "text/x-python",
   "name": "python",
   "nbconvert_exporter": "python",
   "pygments_lexer": "ipython3",
   "version": "3.12.9"
  }
 },
 "nbformat": 4,
 "nbformat_minor": 5
}
