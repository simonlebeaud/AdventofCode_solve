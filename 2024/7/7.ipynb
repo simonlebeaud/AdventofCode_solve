{
 "cells": [
  {
   "cell_type": "code",
   "execution_count": 4,
   "id": "d8e5bdcc",
   "metadata": {},
   "outputs": [
    {
     "name": "stdout",
     "output_type": "stream",
     "text": [
      "First Problem : 4364915411363\n"
     ]
    }
   ],
   "source": [
    "f = open('input.txt','r')\n",
    "equations = []\n",
    "for l in f:\n",
    "    equations.append(l[:-1])\n",
    "\n",
    "results = []\n",
    "numbers = []\n",
    "for e in equations:\n",
    "    t = e.split(':')\n",
    "    results.append(int(t[0]))\n",
    "    numbers.append(list(map(int,t[1].split())))\n",
    "\n",
    "def check_equation(result,current_value, number):\n",
    "    if not number:\n",
    "        return (result==current_value)\n",
    "    else :\n",
    "        return check_equation(result,current_value*number[0],number[1:]) or check_equation(result,current_value+number[0],number[1:])\n",
    "\n",
    "out = 0\n",
    "for i in range(len(results)):\n",
    "    if check_equation(results[i],0,numbers[i]):\n",
    "        out+=results[i]\n",
    "\n",
    "print('First Problem :', out)"
   ]
  },
  {
   "cell_type": "code",
   "execution_count": 3,
   "id": "4f90a30f",
   "metadata": {},
   "outputs": [
    {
     "name": "stdout",
     "output_type": "stream",
     "text": [
      "Second Problem : 38322057216320\n"
     ]
    }
   ],
   "source": [
    "f = open('input.txt','r')\n",
    "equations = []\n",
    "for l in f:\n",
    "    equations.append(l[:-1])\n",
    "\n",
    "results = []\n",
    "numbers = []\n",
    "for e in equations:\n",
    "    t = e.split(':')\n",
    "    results.append(int(t[0]))\n",
    "    numbers.append(list(map(int,t[1].split())))\n",
    "\n",
    "def check_equation(result,current_value, number):\n",
    "    if not number:\n",
    "        return (result==current_value)\n",
    "    else :\n",
    "        return check_equation(result,current_value*number[0],number[1:]) or check_equation(result,current_value+number[0],number[1:]) or check_equation(result,int(str(current_value)+str(number[0])),number[1:])\n",
    "\n",
    "out = 0\n",
    "for i in range(len(results)):\n",
    "    if check_equation(results[i],0,numbers[i]):\n",
    "        out+=results[i]\n",
    "\n",
    "print('Second Problem :', out)"
   ]
  },
  {
   "cell_type": "code",
   "execution_count": null,
   "id": "810ba55c",
   "metadata": {},
   "outputs": [],
   "source": []
  }
 ],
 "metadata": {
  "kernelspec": {
   "display_name": "base",
   "language": "python",
   "name": "python3"
  },
  "language_info": {
   "codemirror_mode": {
    "name": "ipython",
    "version": 3
   },
   "file_extension": ".py",
   "mimetype": "text/x-python",
   "name": "python",
   "nbconvert_exporter": "python",
   "pygments_lexer": "ipython3",
   "version": "3.12.7"
  }
 },
 "nbformat": 4,
 "nbformat_minor": 5
}
